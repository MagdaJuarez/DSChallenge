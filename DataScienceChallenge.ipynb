{
 "cells": [
  {
   "cell_type": "code",
   "execution_count": 55,
   "id": "66899165",
   "metadata": {
    "scrolled": true
   },
   "outputs": [
    {
     "name": "stdout",
     "output_type": "stream",
     "text": [
      "Wrong Average Order Value= 3145.13\n",
      "\n",
      "Average Order Value= 357.92\n"
     ]
    }
   ],
   "source": [
    "import numpy as np\n",
    "import matplotlib.pyplot as plt\n",
    "import pandas as pd\n",
    "\n",
    "# Calculate Average order value\n",
    "\n",
    "shop_data = pd.read_excel('2019 Winter Data Science Intern Challenge Data Set.xlsx')\n",
    "Data = shop_data.to_numpy()\n",
    "wrong_aov = np.average(Data[:, 3])\n",
    "print('Wrong Average Order Value=', round(wrong_aov,2))\n",
    "n_orders, _ = Data.shape\n",
    "\n",
    "aov = np.sum(Data[:, 3])/np.sum(Data[:, 4])\n",
    "print('\\nAverage Order Value=', round(aov,2))"
   ]
  },
  {
   "cell_type": "code",
   "execution_count": 56,
   "id": "4454cb50",
   "metadata": {},
   "outputs": [
    {
     "name": "stdout",
     "output_type": "stream",
     "text": [
      "Revenue Per Visitor:  52244.65\n"
     ]
    }
   ],
   "source": [
    "#Calculate Revenue per visitor\n",
    "\n",
    "unq_visitors = np.unique(Data[:, 2])\n",
    "n_unq_vis = len(unq_visitors)\n",
    "rvp = np.sum(Data[:, 3])/n_unq_vis\n",
    "print('Revenue Per Visitor: ', round(rvp,2))"
   ]
  },
  {
   "cell_type": "code",
   "execution_count": 57,
   "id": "8e083ccd",
   "metadata": {},
   "outputs": [
    {
     "name": "stdout",
     "output_type": "stream",
     "text": [
      "\n",
      "Repeat Purchase Rate =  1.0\n"
     ]
    }
   ],
   "source": [
    "#Calculate Repeat Purchase Rate\n",
    "\n",
    "unique, counts = np.unique(Data[:, 2], return_counts=True)\n",
    "dict_visitors = dict(zip(unique, counts))\n",
    "result = dict_visitors.items()\n",
    "data = list(result)\n",
    "np_visitors = np.array(data)\n",
    "visitors_purchase = np_visitors[np_visitors[:, 1] > 1]\n",
    "n_visitors, _ = visitors_purchase.shape\n",
    "\n",
    "rpr = n_visitors / n_unq_vis\n",
    "print('\\nRepeat Purchase Rate = ', rpr)"
   ]
  },
  {
   "cell_type": "code",
   "execution_count": null,
   "id": "fe127617",
   "metadata": {},
   "outputs": [],
   "source": []
  }
 ],
 "metadata": {
  "kernelspec": {
   "display_name": "Python 3 (ipykernel)",
   "language": "python",
   "name": "python3"
  },
  "language_info": {
   "codemirror_mode": {
    "name": "ipython",
    "version": 3
   },
   "file_extension": ".py",
   "mimetype": "text/x-python",
   "name": "python",
   "nbconvert_exporter": "python",
   "pygments_lexer": "ipython3",
   "version": "3.10.3"
  }
 },
 "nbformat": 4,
 "nbformat_minor": 5
}
